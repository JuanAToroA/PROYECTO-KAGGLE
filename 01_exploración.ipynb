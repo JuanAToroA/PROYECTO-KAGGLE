{
  "nbformat": 4,
  "nbformat_minor": 0,
  "metadata": {
    "colab": {
      "provenance": [],
      "authorship_tag": "ABX9TyM/B9n4SV3fI1k5QsSN5fxV",
      "include_colab_link": true
    },
    "kernelspec": {
      "name": "python3",
      "display_name": "Python 3"
    },
    "language_info": {
      "name": "python"
    }
  },
  "cells": [
    {
      "cell_type": "markdown",
      "metadata": {
        "id": "view-in-github",
        "colab_type": "text"
      },
      "source": [
        "<a href=\"https://colab.research.google.com/github/JuanAToroA/PROYECTO-KAGGLE/blob/main/01_exploraci%C3%B3n.ipynb\" target=\"_parent\"><img src=\"https://colab.research.google.com/assets/colab-badge.svg\" alt=\"Open In Colab\"/></a>"
      ]
    },
    {
      "cell_type": "markdown",
      "source": [
        "<p align=\"center\"><img alt=\"udeA logo\" height=\"150px\" src=\"https://github.com/freddyduitama/images/blob/master/logo.png?raw=true\"></p><h1><font color='0B5345'> <center>\n",
        "\n",
        "</center></font></h1>\n",
        "<center>\n",
        "INTRODUCCION A LA INTELIGENIA ARTIFICIAL\n",
        "\n",
        " </center></font></h1>\n",
        "<h2><font color='0B5345'> <center>\n",
        "PROYECTO KAGGLE</center></font></h2>\n",
        "<font  face=\"Courier New\" size=\"3\">\n",
        "\n",
        "<p3><center><b><font color='0B5345' face=\"Lucida Calligraphy,Comic Sans MS,Lucida Console\" size=\"5\">Universidad de Antioquia - Bioingeniería</font></b> </center></p3>\n",
        "\n",
        "<p3><center><b><font> Juan Andres Toro Acevedo"
      ],
      "metadata": {
        "id": "zkhE1jatRvJ0"
      }
    },
    {
      "cell_type": "markdown",
      "source": [
        "### **ANÁLSIS EXPLORATORIO DE DATOS**"
      ],
      "metadata": {
        "id": "EGEJehphTGRd"
      }
    },
    {
      "cell_type": "code",
      "source": [],
      "metadata": {
        "id": "z-GIZ4T5UXzc"
      },
      "execution_count": null,
      "outputs": []
    },
    {
      "cell_type": "code",
      "source": [
        "import pandas as pd\n",
        "import matplotlib.pyplot as plt\n",
        "import seaborn as sns\n",
        "from scipy.stats import f_oneway\n",
        "from statsmodels.stats.multicomp import pairwise_tukeyhsd\n",
        "import numpy as np\n",
        "from tabulate import tabulate\n",
        "from scipy import stats\n",
        "from statsmodels.formula.api import ols\n",
        "import statsmodels.api as sm\n"
      ],
      "metadata": {
        "id": "HmuZYT6bR-aC"
      },
      "execution_count": 1,
      "outputs": []
    }
  ]
}